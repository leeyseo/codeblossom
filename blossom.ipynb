{
  "nbformat": 4,
  "nbformat_minor": 0,
  "metadata": {
    "colab": {
      "provenance": []
    },
    "kernelspec": {
      "name": "python3",
      "display_name": "Python 3"
    },
    "language_info": {
      "name": "python"
    }
  },
  "cells": [
    {
      "cell_type": "markdown",
      "source": [
        "# STT(whisper 모델)를 통해 audio 파일 -> 텍스트 파일로 변환"
      ],
      "metadata": {
        "id": "1NBmdgjlfzi-"
      }
    },
    {
      "cell_type": "code",
      "execution_count": null,
      "metadata": {
        "id": "pmncCLfde8sv"
      },
      "outputs": [],
      "source": [
        "#!pip install --upgrade git+https://github.com/openai/whisper.git\n",
        "#pip install pydub"
      ]
    },
    {
      "cell_type": "code",
      "source": [
        "import re\n",
        "import os\n",
        "import csv\n",
        "import torch\n",
        "import whisper\n",
        "import pandas as pd\n",
        "from pydub import AudioSegment\n",
        "\n",
        "torch.cuda.empty_cache()\n",
        "model = whisper.load_model('large', device=('cuda:0'))\n",
        "\n",
        "designated_month = \"202310\"  # directory 이름. 월별 directory 내에는 음성파일이 들어가 있음.\n",
        "f_list = os.listdir(f'/content/{designated_month}')\n",
        "\n",
        "folder_list = [folder_name for folder_name in f_list if os.path.isdir(f'/content/{designated_month}/{folder_name}')]\n",
        "\n",
        "folder_list = sorted(folder_list)\n",
        "\n",
        "days = folder_list\n",
        "len_days = len(days)\n",
        "\n",
        "def split_audio(file_path, segment_length=180000): #오디오 파일 3분 단위로 분할\n",
        "    audio = AudioSegment.from_file(file_path)\n",
        "    segments = []\n",
        "    for i in range(0, len(audio), segment_length):\n",
        "        segments.append(audio[i:i + segment_length])\n",
        "    return segments\n",
        "\n",
        "for day in days:\n",
        "    df = pd.DataFrame(columns=[\"variables1\", \"variables2\"])\n",
        "\n",
        "    file_path = f\"/content/{designated_month}/{day}\"\n",
        "    file_list = os.listdir(file_path)\n",
        "    file_length = len(file_list)\n",
        "    transcripts = []\n",
        "    number_list = []\n",
        "\n",
        "    for i in range(file_length):\n",
        "        file_name = file_list[i]\n",
        "\n",
        "        name, ext = os.path.splitext(file_name)\n",
        "        tokens = name.split(\"_\")\n",
        "\n",
        "        audio_segments = split_audio(f\"/content/{designated_month}/{day}/{file_name}\")\n",
        "\n",
        "        for idx, segment in enumerate(audio_segments):\n",
        "            segment_name = f\"{name}_part{idx}.wav\"\n",
        "            number_list.append([tokens[1] + f\"_part{idx}\"])\n",
        "            segment.export(segment_name, format=\"wav\")\n",
        "            try:\n",
        "                transcribed = model.transcribe(segment_name, fp16=False)  # 음성 파일을 텍스트로 변환\n",
        "                transcripts.append(transcribed['text'])\n",
        "            except:\n",
        "                transcripts.append(\" \")\n",
        "                continue\n",
        "\n",
        "    variables1_df = pd.DataFrame(number_list, columns=['variables1'])\n",
        "    variables2_df = pd.DataFrame(transcripts, columns=['variables2'])\n",
        "    df = pd.concat([variables1_df, variables2_df], axis=1)\n",
        "    globals()[f\"df_{day}\"] = df\n",
        "    globals()[f\"df_{day}\"].to_csv(f\"df_{day}.csv\", index=False)\n",
        "    print(f\"{day}_transcription done\")\n",
        "print(\"DONE!\")"
      ],
      "metadata": {
        "id": "zvKlq9jsfKJt"
      },
      "execution_count": null,
      "outputs": []
    },
    {
      "cell_type": "code",
      "source": [
        "# CSV 파일 경로\n",
        "file_path = f'df_{day}.csv'\n",
        "\n",
        "# CSV 파일 읽기\n",
        "df = pd.read_csv(file_path)\n",
        "print(\"원본 데이터:\")\n",
        "print(df.head())\n",
        "\n",
        "# variables1 컬럼에서 파일 번호를 추출하고, variables2 컬럼에서 텍스트를 추출\n",
        "df['file_number'] = df['variables1'].apply(lambda x: x.split('_part')[0])\n",
        "df_grouped = df.groupby('file_number')['variables2'].apply(' '.join).reset_index()\n",
        "\n",
        "# 결과를 확인\n",
        "print(\"변환된 데이터:\")\n",
        "print(df_grouped.head())\n",
        "\n",
        "# 변환된 데이터를 CSV 파일로 저장\n",
        "output_path = f'df_{day}_combined.csv'\n",
        "df_grouped.to_csv(output_path, index=False)\n",
        "print(f\"결합된 데이터가 {output_path}에 저장되었습니다.\")"
      ],
      "metadata": {
        "id": "Gtpk3gNufN7w"
      },
      "execution_count": null,
      "outputs": []
    },
    {
      "cell_type": "markdown",
      "source": [
        "# 추출한 텍스트에서 변수 추출"
      ],
      "metadata": {
        "id": "Kjcf2as4gDFy"
      }
    },
    {
      "cell_type": "code",
      "source": [
        "#pip install openai"
      ],
      "metadata": {
        "id": "JSs802UafXXn"
      },
      "execution_count": null,
      "outputs": []
    },
    {
      "cell_type": "code",
      "source": [
        "import openai\n",
        "import numpy as np\n",
        "import pandas as pd\n",
        "import re\n",
        "import json\n",
        "\n",
        "def get_completion(prompt, model='gpt-3.5-turbo'):\n",
        "    message = [{'role': 'user', 'content': prompt}]\n",
        "    response = openai.ChatCompletion.create(\n",
        "        model=model,\n",
        "        messages=message,\n",
        "        temperature=0,\n",
        "    )\n",
        "    return response.choices[0].message['content']\n"
      ],
      "metadata": {
        "id": "sHiWrVzbfgsK"
      },
      "execution_count": null,
      "outputs": []
    },
    {
      "cell_type": "code",
      "source": [
        "list_of_feature = {\n",
        "    \"간병 시작일\": \"\",\n",
        "    \"단축 가능성\": \"\",\n",
        "    \"연장 가능성\": \"\",\n",
        "    \"단축/연장 가능성\": \"\",\n",
        "    \"병원 이름\": \"\",\n",
        "    \"병동\": \"\",\n",
        "    \"층\": \"\",\n",
        "    \"호실\": \"\",\n",
        "    \"환자 이름\": \"\",\n",
        "    \"성별\": \"\",\n",
        "    \"나이\": \"\",\n",
        "    \"몸무게\": \"\",\n",
        "    \"병명(진단명)\": \"\",\n",
        "    \"병실 유형\": \"\",\n",
        "    \"입원 경로\": \"\",\n",
        "    \"코로나\": \"\",\n",
        "    \"CRE\": \"\",\n",
        "    \"VRE\": \"\",\n",
        "    \"결핵\": \"\",\n",
        "    \"환자의식상태\": \"\",\n",
        "    \"환자위생관리\": \"\",\n",
        "    \"환자식사보조\": \"\",\n",
        "    \"환자화장실 도움\": \"\",\n",
        "    \"환자거동 도움\": \"\",\n",
        "    \"피딩\": \"\",\n",
        "    \"석션\": \"\",\n",
        "    \"욕창\": \"\",\n",
        "    \"재활치료\": \"\",\n",
        "    \"장루\": \"\",\n",
        "    \"투석\": \"\",\n",
        "    \"치매\": \"\",\n",
        "    \"섬망\": \"\",\n",
        "    \"전신마비\": \"\",\n",
        "    \"하반신마비\": \"\",\n",
        "    \"편마비\": \"\",\n",
        "    \"기타증상\": \"\",\n",
        "    \"요구사항\": \"\",\n",
        "    \"선호간병인성별\": \"\",\n",
        "    \"선호간병인국적\": \"\",\n",
        "    \"선호간병인연령\": \"\"\n",
        "}"
      ],
      "metadata": {
        "id": "U-Sd3tOvfi5w"
      },
      "execution_count": null,
      "outputs": []
    },
    {
      "cell_type": "code",
      "source": [
        "openai.api_key = #api key\n",
        "data_path = 'data/df_1004_combined.csv'\n",
        "text_datas = pd.read_csv(f'{data_path}')\n",
        "phone_nums = list(text_datas['file_number'].astype('str'))\n",
        "texts = text_datas['variables2']\n",
        "\n",
        "phone_num_ls = []\n"
      ],
      "metadata": {
        "id": "RHJh0GRofmGI"
      },
      "execution_count": null,
      "outputs": []
    },
    {
      "cell_type": "code",
      "source": [
        "data = []\n",
        "\n",
        "for phone_num, text in zip(phone_nums, texts):\n",
        "    prompt = f\"\"\"\n",
        "    너가 해야할 일은 내가 제시해주는 통화 내용의 특성을 추출하는거야.\n",
        "    추출해야할 특성들은 내가 제시해줄꺼야.\n",
        "    dictionary를 제시해줄테니 그 key를 특성으로 받아서 추출한 뒤 value에다가 입력해.\n",
        "    만약 해당 특성이 통화내용에 드러나지 않으면 value를 'blank'로 채워.\n",
        "    특성을 추출한 뒤에는 다시 value가 채워진 dictionary를 반환해줘.\n",
        "\n",
        "    통화 내용: {text}\n",
        "\n",
        "    추출할 특성들:\n",
        "    \"\"\"\n",
        "    for key in list_of_feature.keys():\n",
        "        prompt += f\"{key}\\n\"\n",
        "\n",
        "    try:\n",
        "        response = get_completion(prompt)\n",
        "        print(\"Response:\", response)  # 응답 출력\n",
        "        response_lines = response.split('\\n')  # 응답을 줄 단위로 분할\n",
        "\n",
        "        if not response_lines or response_lines == ['']:  # 응답이 비어있거나 줄바꿈이 없는 경우 확인\n",
        "            print(\"No valid lines in response.\")\n",
        "            continue\n",
        "\n",
        "        for line in response_lines:\n",
        "            print(\"Line:\", line)  # 각 줄을 출력하여 확인\n",
        "            for key in list_of_feature.keys():\n",
        "                if key in line:\n",
        "                    value = line.split(':', 1)[1].strip()\n",
        "                    list_of_feature[key] = value if value else \"blank\"\n",
        "                    break\n",
        "\n",
        "        data.append(list(list_of_feature.values()))\n",
        "    except Exception as e:\n",
        "        print(f\"Error processing phone number {phone_num}: {e}\")\n",
        "        data.append([\"blank\"] * len(list_of_feature))\n",
        "    phone_num_ls.append(phone_num)\n",
        "\n",
        "df = pd.DataFrame(data, columns=list_of_feature.keys(), index = phone_num_ls)\n",
        "df.to_csv('extracted_features_gpt_3.5.csv', index=True, encoding=\"utf-8-sig\")\n",
        "print(df)"
      ],
      "metadata": {
        "id": "vKucpABzfoAc"
      },
      "execution_count": null,
      "outputs": []
    },
    {
      "cell_type": "markdown",
      "source": [
        "# 모델 생성을 위한 데이터 전처리"
      ],
      "metadata": {
        "id": "j72o2grPg9p2"
      }
    },
    {
      "cell_type": "code",
      "source": [
        "data = pd.read_csv('data/extracted_features_gpt_3.5.csv')\n",
        "data = data.rename(columns={'Unnamed: 0':'전화번호'})\n",
        "data = data.drop([\"간병 시작일\",\n",
        "                   '연장 가능성',\n",
        "                   \"단축 가능성\",\n",
        "                   '병동', '층', '호실', '병실 유형', '입원 경로'], axis = 1)\n",
        "\n",
        "binary = ['코로나', 'CRE', 'VRE', '결핵', '환자위생관리', '환자식사보조', '환자화장실 도움',\n",
        "       '환자거동 도움', '피딩', '석션', '욕창', '재활치료', '장루', '투석', '치매', '섬망', '전신마비',\n",
        "       '하반신마비', '편마비', '기타증상', '요구사항']\n",
        "non_bin = ['병원 이름', '환자 이름', '성별' ,'나이', '몸무게',\n",
        "           '병명(진단명)', '환자의식상태', '선호간병인성별',\n",
        "           '선호간병인국적', '선호간병인연령', '단축/연장 가능성']\n",
        "for column in binary:\n",
        "    data[column] = data[column].apply(lambda x: 0 if x == \"'blank',\" else 1)\n",
        "for column in non_bin:\n",
        "    data[column] = data[column].apply(lambda x: 0 if x == \"'blank',\" else x)"
      ],
      "metadata": {
        "id": "jGkW92-HhDzs"
      },
      "execution_count": null,
      "outputs": []
    },
    {
      "cell_type": "code",
      "source": [
        "cg = pd.read_csv('data/간병목록-간병인 Data(만족도 0~5).csv', encoding='cp949')"
      ],
      "metadata": {
        "id": "tA5XuRdqcFjl"
      },
      "execution_count": null,
      "outputs": []
    },
    {
      "cell_type": "code",
      "source": [
        "cg = cg.loc[0:9,]\n",
        "cg = cg.drop(['보호자','환자', '기간','연장','성별','연령','체중',\n",
        "              '배변_기저귀','배변_도움필요','배변_소변줄','배변_스스로가능',\n",
        "              '의식_무의식','의식_소통원활','의식_이해가능','의식_표현가능',\n",
        "              '거동_거동가능','거동_부축필요','거동_자세변경','거동_휠체어',\n",
        "              '의식_뱃줄','의식_일반식','의식_콧줄'\n",
        "             ], axis = 1)"
      ],
      "metadata": {
        "id": "ytxZGFUJcM-q"
      },
      "execution_count": null,
      "outputs": []
    },
    {
      "cell_type": "code",
      "source": [
        "data1 = pd.concat([cg, data], axis = 1)\n",
        "data1.to_csv('data/간병인_환자_유준영.csv',index=True, encoding=\"utf-8-sig\")"
      ],
      "metadata": {
        "id": "8GLet898cceP"
      },
      "execution_count": null,
      "outputs": []
    },
    {
      "cell_type": "markdown",
      "source": [
        "# RandomForest, KNN, SVM을 이용한 만족도 예측모델 생성"
      ],
      "metadata": {
        "id": "1RG59fMAgP2q"
      }
    },
    {
      "cell_type": "code",
      "source": [
        "import pandas as pd\n",
        "from sklearn.model_selection import train_test_split\n",
        "from sklearn.ensemble import RandomForestRegressor\n",
        "from sklearn.metrics import mean_squared_error, mean_absolute_error, r2_score\n",
        "import matplotlib.pyplot as plt"
      ],
      "metadata": {
        "id": "o-JD3ofCfqJt"
      },
      "execution_count": null,
      "outputs": []
    },
    {
      "cell_type": "code",
      "source": [
        "file_path = 'data/간병인_환자_유준영.csv' ##모델 생성에\n",
        "data = pd.read_csv(file_path)"
      ],
      "metadata": {
        "id": "n6x0SAJsckVe"
      },
      "execution_count": null,
      "outputs": []
    },
    {
      "cell_type": "code",
      "source": [
        "relevant_columns = data[['경력(개월)', '성별.1', '만족도',\n",
        "    '자격증_간병인자격증', '자격증_간호조무사', '자격증_노인심리상담사', '자격증_실버케어지도사',\n",
        "    '자격증_요양보호사', '자격증_호스피스', '자격증_활동보조인',\n",
        "    '선호_감염성질환', '선호_경증환자', '선호_고액환자', '선호_남성환자', '선호_단기환자',\n",
        "    '선호_석션', '선호_섬망환자', '선호_여성환자', '선호_와상환자', '선호_장기환자',\n",
        "    '선호_장루', '선호_정형외과', '선호_중증환자', '선호_치매환자', '선호_편마비환자', '선호_피딩',\n",
        "    '기피_격리환자', '기피_경증환자', '기피_경추환자', '기피_과체중환자', '기피_남성환자',\n",
        "    '기피_단기환자', '기피_석션환자', '기피_섬망환자', '기피_수면장애환자', '기피_암환자',\n",
        "    '기피_잠못자는환자', '기피_장루', '기피_중증환자', '기피_치매환자', '기피_파킨슨병',\n",
        "    '기피_폐질환', '기피_피딩',\n",
        "    '치매', '섬망', '전신마비', '하반신마비', '편마비', '기타증상', '요구사항'\n",
        "]]"
      ],
      "metadata": {
        "id": "Onkji7f_ck9S"
      },
      "execution_count": null,
      "outputs": []
    },
    {
      "cell_type": "code",
      "source": [
        "#모델학습\n",
        "X = relevant_columns.drop('만족도', axis = 1)\n",
        "y = relevant_columns['만족도']\n",
        "\n",
        "X_train, X_test, y_train, y_test = train_test_split(X, y, test_size = 0.2, random_state = 42)\n",
        "RF_model = RandomForestRegressor(random_state=42)\n",
        "RF_model.fit(X_train, y_train)\n",
        "#성능평가\n",
        "y_pred = RF_model.predict(X_test)\n",
        "mse = mean_squared_error(y_test, y_pred)\n",
        "mae = mean_absolute_error(y_test, y_pred)\n",
        "r2 = r2_score(y_test, y_pred)\n",
        "\n",
        "metrics = {\n",
        "    'Metric': ['Mean Squared Error (MSE)', 'Mean Absolute Error (MAE)', 'R-squared (R2)'],\n",
        "    'Value': [mse, mae, r2]\n",
        "}\n",
        "metrics_df = pd.DataFrame(metrics)\n",
        "metrics_df"
      ],
      "metadata": {
        "id": "5wDvYuzFcn_f"
      },
      "execution_count": null,
      "outputs": []
    },
    {
      "cell_type": "code",
      "source": [
        "from sklearn.neighbors import KNeighborsRegressor\n",
        "from sklearn.svm import SVR"
      ],
      "metadata": {
        "id": "KWZ3aRC_KIHX"
      },
      "execution_count": null,
      "outputs": []
    },
    {
      "cell_type": "code",
      "source": [
        "#모델학습\n",
        "knn_model = KNeighborsRegressor()\n",
        "knn_model.fit(X_train, y_train)\n",
        "y_pred_knn = knn_model.predict(X_test)\n",
        "\n",
        "svm_model = SVR()\n",
        "svm_model.fit(X_train, y_train)\n",
        "y_pred_svm = svm_model.predict(X_test)\n",
        "#성능평가\n",
        "mse_knn = mean_squared_error(y_test, y_pred_knn)\n",
        "mae_knn = mean_absolute_error(y_test, y_pred_knn)\n",
        "r2_knn = r2_score(y_test, y_pred_knn)\n",
        "\n",
        "mse_svm = mean_squared_error(y_test, y_pred_svm)\n",
        "mae_svm = mean_absolute_error(y_test, y_pred_svm)\n",
        "r2_svm = r2_score(y_test, y_pred_svm)\n",
        "\n",
        "metrics_data_knn = {\n",
        "    'Metric': ['Mean Squared Error (MSE)', 'Mean Absolute Error (MAE)', 'R-squared (R2)'],\n",
        "    'Value': [mse_knn, mae_knn, r2_knn]\n",
        "}\n",
        "metrics_df_knn = pd.DataFrame(metrics_data_knn)\n",
        "metrics_df_knn\n",
        "\n",
        "metrics_data_svm = {\n",
        "    'Metric': ['Mean Squared Error (MSE)', 'Mean Absolute Error (MAE)', 'R-squared (R2)'],\n",
        "    'Value': [mse_svm, mae_svm, r2_svm]\n",
        "}\n",
        "metrics_df_svm = pd.DataFrame(metrics_data_svm)\n",
        "metrics_df_svm"
      ],
      "metadata": {
        "id": "iEB431OlKgP6"
      },
      "execution_count": null,
      "outputs": []
    },
    {
      "cell_type": "markdown",
      "source": [],
      "metadata": {
        "id": "8iDaEHvKKn2x"
      }
    }
  ]
}